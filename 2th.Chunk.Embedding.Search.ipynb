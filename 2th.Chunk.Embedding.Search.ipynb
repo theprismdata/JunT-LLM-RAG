{
 "cells": [
  {
   "cell_type": "markdown",
   "id": "9b97c1a9-2530-40c2-a7b7-de4d3d70df53",
   "metadata": {},
   "source": [
    "#### 1. Chunking"
   ]
  },
  {
   "cell_type": "code",
   "execution_count": 5,
   "id": "ca3fffed-5436-4216-815f-e2997c5bfc93",
   "metadata": {},
   "outputs": [],
   "source": [
    "from langchain_text_splitters import RecursiveCharacterTextSplitter"
   ]
  },
  {
   "cell_type": "code",
   "execution_count": 6,
   "id": "017151b3-706d-4409-9677-3fefafc1f503",
   "metadata": {},
   "outputs": [],
   "source": [
    "from langchain.text_splitter import NLTKTextSplitter"
   ]
  },
  {
   "cell_type": "code",
   "execution_count": 7,
   "id": "730fcdb7-a2b0-4a23-a773-4d8426f316a8",
   "metadata": {},
   "outputs": [
    {
     "name": "stdout",
     "output_type": "stream",
     "text": [
      "총 청크 수: 18\n",
      "\n",
      "청크 1:\n",
      "길이: 54 문자\n",
      "[오는 25일부터 30일까지 설 연휴 기간 데이터 통신 요금 부담 없이 영상통화가 무료로 제공된다.]\n",
      "\n",
      "청크 2:\n",
      "길이: 80 문자\n",
      "[과학기술정보통신부는 설 명절을 맞이해 가계 부담을 완화하고 안전한 디지털 이용을 위한 민생 지원과 디지털 안전 정책을 추진한다고 20일 밝혔다.]\n",
      "\n",
      "청크 3:\n",
      "길이: 81 문자\n",
      "[고물가 시대 국민의 가계통신비 부담을 완화하고 소비자 후생을 향상하기 위해 발표된 알뜰폰 경쟁력 강화방안에 따라 데이터 도매대가를 낮출 예정이다.]\n",
      "\n",
      "청크 4:\n",
      "길이: 48 문자\n",
      "[또 중고폰의 안전한 거래 환경 조성을 위한 중고폰 안심거래 사업자 인증제도를 추진한다.]\n",
      "\n",
      "청크 5:\n",
      "길이: 99 문자\n",
      "[설 장바구니 물가 부담을 낮출 수 있도록 오는 30일까지 ‘2025년 우체국쇼핑 설 선물대전’을 진행한다. 53개 지자체, 공공기관과 협업해 15억원 이상의 예산으로 지역의 품질]\n",
      "\n",
      "청크 6:\n",
      "길이: 86 문자\n",
      "[품질 좋은 농수축산물 3천200여 개 상품을 최대 50% 할인된 가격으로 확보해 우체국 자체 쇼핑몰과 지마켓, 11번가 등 온라인 쇼핑몰을 통해 판매한다.]\n",
      "\n",
      "청크 7:\n",
      "길이: 73 문자\n",
      "[케이블TV가 운용하는 지역 채널을 통해 지역 골목상권을 안내하고 지역 특산품을 판매하여 판로개척이 어려운 지역 소상공인을 지원한다.]\n",
      "\n",
      "청크 8:\n",
      "길이: 96 문자\n",
      "[온 가족이 함께 과학문화를 즐길 수 있도록 설 연휴기간 동안 중앙(대전), 과천, 광주, 부산 등 소관 국립과학관 5곳의 상설전시관을 무료로 개방한다. 각 과학관에서 을사년]\n",
      "\n",
      "청크 9:\n",
      "길이: 50 문자\n",
      "[을사년 뱀관련 별자리 해설, 민속놀이 등 다양한 과학문화 전시와 체험행사를 즐길 수 있다.]\n",
      "\n",
      "청크 10:\n",
      "길이: 96 문자\n",
      "[설 연휴 기간 통신량 급증이 예상되는 고속도로, 터미널 등에서는 통신품질 사전점검과 기지국 용량을 증설하고, 디지털 서비스 트래픽 급증에 대비하여 서버 가용량을 확보하는 등]\n",
      "\n",
      "청크 11:\n",
      "길이: 70 문자\n",
      "[등 통신장애에 선제적으로 대비한다. 장애 상황에 즉각 대응할 수 있도록 사업자와 24시간 상시 온오프라인 대응체계를 운영한다.]\n",
      "\n",
      "청크 12:\n",
      "길이: 95 문자\n",
      "[1월 한 달 동안 기간통신, 부가통신, 데이터센터 등 중요 정보통신시설을 대상으로 동절기 대비 시설 취약점, 트래픽 급증 대비 대책 등을 점검한다. 자체적으로는 연구실 등]\n",
      "\n",
      "청크 13:\n",
      "길이: 58 문자\n",
      "[등 사고우려시설을 점검하고, 비상 인력도 확대 운영하여 연휴 기간의 비상 상황에 신속히 대응할 예정이다.]\n",
      "\n",
      "청크 14:\n",
      "길이: 95 문자\n",
      "[국무조정실, 경찰청, 금융위원회 등과 합동으로 이통 3사 가입자 약 4천747만명에게 설 인사를 사칭한 스미싱, 해킹메일 및 불법사금융 주의 메시지를 13일부터 27일까지]\n",
      "\n",
      "청크 15:\n",
      "길이: 11 문자\n",
      "[순차적으로 발송한다,]\n",
      "\n",
      "청크 16:\n",
      "길이: 73 문자\n",
      "[오는 21일 강변테크노마트를 방문해 단통법 폐지 후 자유로운 지원금 경쟁으로 이용자 혜택이 증대될 수 있도록 협조를 요청할 예정다.]\n",
      "\n",
      "청크 17:\n",
      "길이: 97 문자\n",
      "[유상임 장관은 “어려운 시국임에도 즐겁고 안전한 설 명절을 위해 우리 부의 자원을 총동원해 민생안정에 기여하고자 한다”며 “특히 올해는 재정의 70% 이상을 상반기 내 집행해]\n",
      "\n",
      "청크 18:\n",
      "길이: 48 문자\n",
      "[집행해 최대한 신속히 국민의 편안한 삶을 영위할 수 있도록 지원할 예정”이라고 말했다.]\n"
     ]
    }
   ],
   "source": [
    "# RecursiveCharacterTextSplitter\n",
    "\"\"\"\n",
    "2025.01.20. 오후 12:01\n",
    "https://n.news.naver.com/article/092/0002360502?cds=news_media_pc&type=editn\n",
    "\"\"\"\n",
    "text = \"\"\"오는 25일부터 30일까지 설 연휴 기간 데이터 통신 요금 부담 없이 영상통화가 무료로 제공된다.\n",
    "과학기술정보통신부는 설 명절을 맞이해 가계 부담을 완화하고 안전한 디지털 이용을 위한 민생 지원과 디지털 안전 정책을 추진한다고 20일 밝혔다.\n",
    "고물가 시대 국민의 가계통신비 부담을 완화하고 소비자 후생을 향상하기 위해 발표된 알뜰폰 경쟁력 강화방안에 따라 데이터 도매대가를 낮출 예정이다.\n",
    "또 중고폰의 안전한 거래 환경 조성을 위한 중고폰 안심거래 사업자 인증제도를 추진한다.\n",
    "\n",
    "설 장바구니 물가 부담을 낮출 수 있도록 오는 30일까지 ‘2025년 우체국쇼핑 설 선물대전’을 진행한다. 53개 지자체, 공공기관과 협업해 15억원 이상의 예산으로 지역의 품질 좋은 농수축산물 3천200여 개 상품을 최대 50% 할인된 가격으로 확보해 우체국 자체 쇼핑몰과 지마켓, 11번가 등 온라인 쇼핑몰을 통해 판매한다.\n",
    "케이블TV가 운용하는 지역 채널을 통해 지역 골목상권을 안내하고 지역 특산품을 판매하여 판로개척이 어려운 지역 소상공인을 지원한다.\n",
    "\n",
    "온 가족이 함께 과학문화를 즐길 수 있도록 설 연휴기간 동안 중앙(대전), 과천, 광주, 부산 등 소관 국립과학관 5곳의 상설전시관을 무료로 개방한다. 각 과학관에서 을사년 뱀관련 별자리 해설, 민속놀이 등 다양한 과학문화 전시와 체험행사를 즐길 수 있다.\n",
    "설 연휴 기간 통신량 급증이 예상되는 고속도로, 터미널 등에서는 통신품질 사전점검과 기지국 용량을 증설하고, 디지털 서비스 트래픽 급증에 대비하여 서버 가용량을 확보하는 등 통신장애에 선제적으로 대비한다. 장애 상황에 즉각 대응할 수 있도록 사업자와 24시간 상시 온오프라인 대응체계를 운영한다.\n",
    "1월 한 달 동안 기간통신, 부가통신, 데이터센터 등 중요 정보통신시설을 대상으로 동절기 대비 시설 취약점, 트래픽 급증 대비 대책 등을 점검한다. 자체적으로는 연구실 등 사고우려시설을 점검하고, 비상 인력도 확대 운영하여 연휴 기간의 비상 상황에 신속히 대응할 예정이다.\n",
    "국무조정실, 경찰청, 금융위원회 등과 합동으로 이통 3사 가입자 약 4천747만명에게 설 인사를 사칭한 스미싱, 해킹메일 및 불법사금융 주의 메시지를 13일부터 27일까지 순차적으로 발송한다,\n",
    "오는 21일 강변테크노마트를 방문해 단통법 폐지 후 자유로운 지원금 경쟁으로 이용자 혜택이 증대될 수 있도록 협조를 요청할 예정다.\n",
    "유상임 장관은 “어려운 시국임에도 즐겁고 안전한 설 명절을 위해 우리 부의 자원을 총동원해 민생안정에 기여하고자 한다”며 “특히 올해는 재정의 70% 이상을 상반기 내 집행해 최대한 신속히 국민의 편안한 삶을 영위할 수 있도록 지원할 예정”이라고 말했다.\n",
    "\"\"\"\n",
    "recursive_text_splitter = RecursiveCharacterTextSplitter(\n",
    "    # 청크 크기를 임의로 10으로 설정합니다.\n",
    "    chunk_size=100,\n",
    "    #청크의 마지막 기준으로 임의로 4개 앞까지 포함시킵니다.\n",
    "    chunk_overlap=4,\n",
    "    length_function=len,\n",
    "    separators=[\"\\n\\n\", \"\\n\", \" \", \"\"] #모두 갖도록 합니다.\n",
    ")\n",
    "# 텍스트 분할\n",
    "chunks = recursive_text_splitter.split_text(text)\n",
    "\n",
    "# 결과 출력\n",
    "print(\"총 청크 수:\", len(chunks))\n",
    "for i, chunk in enumerate(chunks, 1):\n",
    "    print(f\"\\n청크 {i}:\")\n",
    "    print(f\"길이: {len(chunk)} 문자\")\n",
    "    print(f\"[{chunk}]\")"
   ]
  },
  {
   "cell_type": "code",
   "execution_count": 8,
   "id": "5ab5507f-6e47-43ab-ade7-d271adaf35df",
   "metadata": {},
   "outputs": [
    {
     "name": "stdout",
     "output_type": "stream",
     "text": [
      "총 청크 수: 10\n",
      "\n",
      "청크 1:\n",
      "길이: 136 문자\n",
      "[오는 25일부터 30일까지 설 연휴 기간 데이터 통신 요금 부담 없이 영상통화가 무료로 제공된다.\n",
      "\n",
      "과학기술정보통신부는 설 명절을 맞이해 가계 부담을 완화하고 안전한 디지털 이용을 위한 민생 지원과 디지털 안전 정책을 추진한다고 20일 밝혔다.]\n",
      "\n",
      "청크 2:\n",
      "길이: 131 문자\n",
      "[고물가 시대 국민의 가계통신비 부담을 완화하고 소비자 후생을 향상하기 위해 발표된 알뜰폰 경쟁력 강화방안에 따라 데이터 도매대가를 낮출 예정이다.\n",
      "\n",
      "또 중고폰의 안전한 거래 환경 조성을 위한 중고폰 안심거래 사업자 인증제도를 추진한다.]\n",
      "\n",
      "청크 3:\n",
      "길이: 109 문자\n",
      "[또 중고폰의 안전한 거래 환경 조성을 위한 중고폰 안심거래 사업자 인증제도를 추진한다.\n",
      "\n",
      "설 장바구니 물가 부담을 낮출 수 있도록 오는 30일까지 ‘2025년 우체국쇼핑 설 선물대전’을 진행한다.]\n",
      "\n",
      "청크 4:\n",
      "길이: 124 문자\n",
      "[53개 지자체, 공공기관과 협업해 15억원 이상의 예산으로 지역의 \n",
      "품질 좋은 농수축산물 3천200여 개 상품을 최대 50% 할인된 가격으로 확보해 우체국 자체 쇼핑몰과 지마켓, 11번가 등 온라인 쇼핑몰을 통해 판매한다.]\n",
      "\n",
      "청크 5:\n",
      "길이: 159 문자\n",
      "[케이블TV가 운용하는 지역 채널을 통해 지역 골목상권을 안내하고 지역 특산품을 판매하여 판로개척이 어려운 지역 소상공인을 지원한다.\n",
      "\n",
      "온 가족이 함께 과학문화를 즐길 수 있도록 설 연휴기간 동안 중앙(대전), 과천, 광주, 부산 등 소관 국립과학관 5곳의 상설전시관을 무료로 개방한다.]\n",
      "\n",
      "청크 6:\n",
      "길이: 175 문자\n",
      "[각 과학관에서 을사년 뱀관련 별자리 해설, 민속놀이 등 다양한 과학문화 전시와 체험행사를 즐길 수 있다.\n",
      "\n",
      "설 연휴 기간 통신량 급증이 예상되는 고속도로, 터미널 등에서는 통신품질 사전점검과 기지국 용량을 증설하고, 디지털 서비스 트래픽 급증에 대비하여 서버 가용량을 \n",
      "확보하는 등 통신장애에 선제적으로 대비한다.]\n",
      "\n",
      "청크 7:\n",
      "길이: 134 문자\n",
      "[장애 상황에 즉각 대응할 수 있도록 사업자와 24시간 상시 온오프라인 대응체계를 운영한다.\n",
      "\n",
      "1월 한 달 동안 기간통신, 부가통신, 데이터센터 등 중요 정보통신시설을 대상으로 동절기 대비 시설 취약점, 트래픽 급증 대비 대책 등을 점검한다.]\n",
      "\n",
      "청크 8:\n",
      "길이: 69 문자\n",
      "[자체적으로는 연구실 등 사고우려시설을 점검하고, 비상 인력도 확대 운영하여 연휴 기간의 비상 상황에 신속히 대응할 예정이다.]\n",
      "\n",
      "청크 9:\n",
      "길이: 182 문자\n",
      "[국무조정실, 경찰청, 금융위원회 등과 합동으로 이통 3사 가입자 약 4천747만명에게 설 인사를 사칭한 스미싱, 해킹메일 및 불법사금융 주의 메시지를 13일부터 27일까지 \n",
      "순차적으로 발송한다,\n",
      "오는 21일 강변테크노마트를 방문해 단통법 폐지 후 자유로운 지원금 경쟁으로 이용자 혜택이 증대될 수 있도록 협조를 요청할 예정다.]\n",
      "\n",
      "청크 10:\n",
      "길이: 143 문자\n",
      "[유상임 장관은 “어려운 시국임에도 즐겁고 안전한 설 명절을 위해 우리 부의 자원을 총동원해 민생안정에 기여하고자 한다”며 “특히 올해는 재정의 70% 이상을 상반기 내 \n",
      "집행해 최대한 신속히 국민의 편안한 삶을 영위할 수 있도록 지원할 예정”이라고 말했다.]\n"
     ]
    }
   ],
   "source": [
    "# NLTKTextSplitter\n",
    "\"\"\"\n",
    "2025.01.20. 오후 12:01\n",
    "https://n.news.naver.com/article/092/0002360502?cds=news_media_pc&type=editn\n",
    "\"\"\"\n",
    "text = \"\"\"오는 25일부터 30일까지 설 연휴 기간 데이터 통신 요금 부담 없이 영상통화가 무료로 제공된다.\n",
    "과학기술정보통신부는 설 명절을 맞이해 가계 부담을 완화하고 안전한 디지털 이용을 위한 민생 지원과 디지털 안전 정책을 추진한다고 20일 밝혔다.\n",
    "고물가 시대 국민의 가계통신비 부담을 완화하고 소비자 후생을 향상하기 위해 발표된 알뜰폰 경쟁력 강화방안에 따라 데이터 도매대가를 낮출 예정이다.\n",
    "또 중고폰의 안전한 거래 환경 조성을 위한 중고폰 안심거래 사업자 인증제도를 추진한다.\n",
    "\n",
    "설 장바구니 물가 부담을 낮출 수 있도록 오는 30일까지 ‘2025년 우체국쇼핑 설 선물대전’을 진행한다. 53개 지자체, 공공기관과 협업해 15억원 이상의 예산으로 지역의 \n",
    "품질 좋은 농수축산물 3천200여 개 상품을 최대 50% 할인된 가격으로 확보해 우체국 자체 쇼핑몰과 지마켓, 11번가 등 온라인 쇼핑몰을 통해 판매한다.\n",
    "케이블TV가 운용하는 지역 채널을 통해 지역 골목상권을 안내하고 지역 특산품을 판매하여 판로개척이 어려운 지역 소상공인을 지원한다.\n",
    "\n",
    "온 가족이 함께 과학문화를 즐길 수 있도록 설 연휴기간 동안 중앙(대전), 과천, 광주, 부산 등 소관 국립과학관 5곳의 상설전시관을 무료로 개방한다. \n",
    "각 과학관에서 을사년 뱀관련 별자리 해설, 민속놀이 등 다양한 과학문화 전시와 체험행사를 즐길 수 있다.\n",
    "설 연휴 기간 통신량 급증이 예상되는 고속도로, 터미널 등에서는 통신품질 사전점검과 기지국 용량을 증설하고, 디지털 서비스 트래픽 급증에 대비하여 서버 가용량을 \n",
    "확보하는 등 통신장애에 선제적으로 대비한다. \n",
    "장애 상황에 즉각 대응할 수 있도록 사업자와 24시간 상시 온오프라인 대응체계를 운영한다.\n",
    "1월 한 달 동안 기간통신, 부가통신, 데이터센터 등 중요 정보통신시설을 대상으로 동절기 대비 시설 취약점, 트래픽 급증 대비 대책 등을 점검한다. \n",
    "자체적으로는 연구실 등 사고우려시설을 점검하고, 비상 인력도 확대 운영하여 연휴 기간의 비상 상황에 신속히 대응할 예정이다.\n",
    "국무조정실, 경찰청, 금융위원회 등과 합동으로 이통 3사 가입자 약 4천747만명에게 설 인사를 사칭한 스미싱, 해킹메일 및 불법사금융 주의 메시지를 13일부터 27일까지 \n",
    "순차적으로 발송한다,\n",
    "오는 21일 강변테크노마트를 방문해 단통법 폐지 후 자유로운 지원금 경쟁으로 이용자 혜택이 증대될 수 있도록 협조를 요청할 예정다.\n",
    "유상임 장관은 “어려운 시국임에도 즐겁고 안전한 설 명절을 위해 우리 부의 자원을 총동원해 민생안정에 기여하고자 한다”며 “특히 올해는 재정의 70% 이상을 상반기 내 \n",
    "집행해 최대한 신속히 국민의 편안한 삶을 영위할 수 있도록 지원할 예정”이라고 말했다.\n",
    "\"\"\"\n",
    "nltk_text_splitter = NLTKTextSplitter(\n",
    "    chunk_size=182,\n",
    "    #청크의 마지막 기준으로 임의로 4개 앞까지 포함시킵니다.\n",
    "    chunk_overlap=50,\n",
    "    length_function=len\n",
    ")\n",
    "\"\"\"\n",
    "'또 중고폰의 안전한 거래 환경 조성을'이 Overlap됨\n",
    "\"\"\"\n",
    "# 텍스트 분할\n",
    "chunks = nltk_text_splitter.split_text(text)\n",
    "# 결과 출력\n",
    "print(\"총 청크 수:\", len(chunks))\n",
    "for i, chunk in enumerate(chunks, 1):\n",
    "    print(f\"\\n청크 {i}:\")\n",
    "    print(f\"길이: {len(chunk)} 문자\")\n",
    "    print(f\"[{chunk}]\")"
   ]
  },
  {
   "cell_type": "markdown",
   "id": "3aa0f9de-5e1f-462f-881c-deebcbdfcca8",
   "metadata": {},
   "source": [
    "#### 2. Embedding"
   ]
  },
  {
   "cell_type": "code",
   "execution_count": 9,
   "id": "25796901-14df-47d5-8cfb-f310738af93c",
   "metadata": {},
   "outputs": [],
   "source": [
    "from sentence_transformers import SentenceTransformer"
   ]
  },
  {
   "cell_type": "code",
   "execution_count": 10,
   "id": "3037b882-c758-4023-b76d-7d9b3ccd7072",
   "metadata": {},
   "outputs": [],
   "source": [
    "#!huggingface-cli download snunlp/KR-SBERT-V40K-klueNLI-augSTS --local-dir ./embeddingmodel/KR-SBERT-V40K-klueNLI-augSTS/"
   ]
  },
  {
   "cell_type": "code",
   "execution_count": 11,
   "id": "6efeab4a-3b1a-49ee-9a82-3ba9a3d52d5e",
   "metadata": {},
   "outputs": [],
   "source": [
    "embedding_model = SentenceTransformer('embeddingmodel/KR-SBERT-V40K-klueNLI-augSTS')"
   ]
  },
  {
   "cell_type": "code",
   "execution_count": 12,
   "id": "a6208f99-f667-4d35-b5c6-2f393767edf7",
   "metadata": {},
   "outputs": [],
   "source": [
    "# NLTKTextSplitter\n",
    "\"\"\"\n",
    "2025.01.20. 오후 12:01\n",
    "https://n.news.naver.com/article/092/0002360502?cds=news_media_pc&type=editn\n",
    "\"\"\"\n",
    "text = \"\"\"오는 25일부터 30일까지 설 연휴 기간 데이터 통신 요금 부담 없이 영상통화가 무료로 제공된다.\n",
    "과학기술정보통신부는 설 명절을 맞이해 가계 부담을 완화하고 안전한 디지털 이용을 위한 민생 지원과 디지털 안전 정책을 추진한다고 20일 밝혔다.\n",
    "고물가 시대 국민의 가계통신비 부담을 완화하고 소비자 후생을 향상하기 위해 발표된 알뜰폰 경쟁력 강화방안에 따라 데이터 도매대가를 낮출 예정이다.\n",
    "또 중고폰의 안전한 거래 환경 조성을 위한 중고폰 안심거래 사업자 인증제도를 추진한다.\n",
    "\n",
    "설 장바구니 물가 부담을 낮출 수 있도록 오는 30일까지 ‘2025년 우체국쇼핑 설 선물대전’을 진행한다. 53개 지자체, 공공기관과 협업해 15억원 이상의 예산으로 지역의 \n",
    "품질 좋은 농수축산물 3천200여 개 상품을 최대 50% 할인된 가격으로 확보해 우체국 자체 쇼핑몰과 지마켓, 11번가 등 온라인 쇼핑몰을 통해 판매한다.\n",
    "케이블TV가 운용하는 지역 채널을 통해 지역 골목상권을 안내하고 지역 특산품을 판매하여 판로개척이 어려운 지역 소상공인을 지원한다.\n",
    "\n",
    "온 가족이 함께 과학문화를 즐길 수 있도록 설 연휴기간 동안 중앙(대전), 과천, 광주, 부산 등 소관 국립과학관 5곳의 상설전시관을 무료로 개방한다. \n",
    "각 과학관에서 을사년 뱀관련 별자리 해설, 민속놀이 등 다양한 과학문화 전시와 체험행사를 즐길 수 있다.\n",
    "설 연휴 기간 통신량 급증이 예상되는 고속도로, 터미널 등에서는 통신품질 사전점검과 기지국 용량을 증설하고, 디지털 서비스 트래픽 급증에 대비하여 서버 가용량을 \n",
    "확보하는 등 통신장애에 선제적으로 대비한다. \n",
    "장애 상황에 즉각 대응할 수 있도록 사업자와 24시간 상시 온오프라인 대응체계를 운영한다.\n",
    "1월 한 달 동안 기간통신, 부가통신, 데이터센터 등 중요 정보통신시설을 대상으로 동절기 대비 시설 취약점, 트래픽 급증 대비 대책 등을 점검한다. \n",
    "자체적으로는 연구실 등 사고우려시설을 점검하고, 비상 인력도 확대 운영하여 연휴 기간의 비상 상황에 신속히 대응할 예정이다.\n",
    "국무조정실, 경찰청, 금융위원회 등과 합동으로 이통 3사 가입자 약 4천747만명에게 설 인사를 사칭한 스미싱, 해킹메일 및 불법사금융 주의 메시지를 13일부터 27일까지 \n",
    "순차적으로 발송한다,\n",
    "오는 21일 강변테크노마트를 방문해 단통법 폐지 후 자유로운 지원금 경쟁으로 이용자 혜택이 증대될 수 있도록 협조를 요청할 예정다.\n",
    "유상임 장관은 “어려운 시국임에도 즐겁고 안전한 설 명절을 위해 우리 부의 자원을 총동원해 민생안정에 기여하고자 한다”며 “특히 올해는 재정의 70% 이상을 상반기 내 \n",
    "집행해 최대한 신속히 국민의 편안한 삶을 영위할 수 있도록 지원할 예정”이라고 말했다.\n",
    "\"\"\""
   ]
  },
  {
   "cell_type": "code",
   "execution_count": 13,
   "id": "c8700682-a9b4-4af2-9299-0868f517cdba",
   "metadata": {},
   "outputs": [],
   "source": [
    "chunks = recursive_text_splitter.split_text(text)"
   ]
  },
  {
   "cell_type": "code",
   "execution_count": 15,
   "id": "6d533b04-2f68-49e5-a001-65ec23a71283",
   "metadata": {},
   "outputs": [
    {
     "name": "stdout",
     "output_type": "stream",
     "text": [
      "오는 25일부터 30일까지 설 연휴 기간 데이터 통신 요금 부담 없이 영상통화가 무료로 제공된다.\n",
      "(768,)\n",
      "[-0.30423218 -0.6265038  -0.46199942 -0.46639022 -0.15611306  0.29953027\n",
      " -0.69818604 -1.1840905   1.0043663   0.4649436 ]\n",
      "과학기술정보통신부는 설 명절을 맞이해 가계 부담을 완화하고 안전한 디지털 이용을 위한 민생 지원과 디지털 안전 정책을 추진한다고 20일 밝혔다.\n",
      "(768,)\n",
      "[ 4.6892282e-01 -1.1840496e+00  3.3732483e-01  4.5139022e-04\n",
      "  1.8030833e-01 -6.6667652e-01 -5.0754845e-03 -1.2134197e+00\n",
      " -1.1449635e-01 -6.5772069e-01]\n",
      "고물가 시대 국민의 가계통신비 부담을 완화하고 소비자 후생을 향상하기 위해 발표된 알뜰폰 경쟁력 강화방안에 따라 데이터 도매대가를 낮출 예정이다.\n",
      "(768,)\n",
      "[ 0.01831685 -0.37341833  0.37816024  0.12469912  1.0065578  -0.40982768\n",
      " -0.14633176 -0.5699802   0.38141903 -0.41574487]\n",
      "또 중고폰의 안전한 거래 환경 조성을 위한 중고폰 안심거래 사업자 인증제도를 추진한다.\n",
      "(768,)\n",
      "[ 0.27099332 -0.41598678 -0.7909945   0.45081002  0.6478745   0.6798109\n",
      " -0.6193923  -0.8730055  -0.21324547  0.31418988]\n",
      "설 장바구니 물가 부담을 낮출 수 있도록 오는 30일까지 ‘2025년 우체국쇼핑 설 선물대전’을 진행한다. 53개 지자체, 공공기관과 협업해 15억원 이상의 예산으로 지역의\n",
      "(768,)\n",
      "[-0.00956788 -0.12008172 -0.12694435 -0.3503958   0.1557423  -1.2147306\n",
      "  0.5591767  -0.79176736  0.37097403 -0.4304068 ]\n",
      "품질 좋은 농수축산물 3천200여 개 상품을 최대 50% 할인된 가격으로 확보해 우체국 자체 쇼핑몰과 지마켓, 11번가 등 온라인 쇼핑몰을 통해 판매한다.\n",
      "(768,)\n",
      "[-0.61895424 -0.53062004 -0.00882886  0.46972466  0.41810933 -0.25296152\n",
      "  0.17274648 -0.52076447  0.94295794 -0.4522019 ]\n",
      "케이블TV가 운용하는 지역 채널을 통해 지역 골목상권을 안내하고 지역 특산품을 판매하여 판로개척이 어려운 지역 소상공인을 지원한다.\n",
      "(768,)\n",
      "[ 0.45760506 -0.87304354  0.78654134 -0.44322845  0.6696572  -0.22933492\n",
      "  0.0585539  -0.8284303  -0.12266371 -0.9899986 ]\n",
      "온 가족이 함께 과학문화를 즐길 수 있도록 설 연휴기간 동안 중앙(대전), 과천, 광주, 부산 등 소관 국립과학관 5곳의 상설전시관을 무료로 개방한다.\n",
      "(768,)\n",
      "[ 0.35694003 -0.98987085 -0.40989304 -0.19947807  0.08071796 -0.11688997\n",
      "  1.1358607  -0.64760906 -0.33810687  0.26114455]\n",
      "각 과학관에서 을사년 뱀관련 별자리 해설, 민속놀이 등 다양한 과학문화 전시와 체험행사를 즐길 수 있다.\n",
      "(768,)\n",
      "[-0.13047144 -0.6973236  -0.7641139   0.57512456 -0.23126599 -0.41107517\n",
      "  1.2394701  -0.23686935 -0.19726637  0.8152009 ]\n",
      "설 연휴 기간 통신량 급증이 예상되는 고속도로, 터미널 등에서는 통신품질 사전점검과 기지국 용량을 증설하고, 디지털 서비스 트래픽 급증에 대비하여 서버 가용량을\n",
      "(768,)\n",
      "[ 5.4636431e-01 -1.2206031e+00  1.7937824e-01 -1.2720365e-03\n",
      "  1.3499862e+00  5.2724715e-02 -6.7578755e-02 -5.2485633e-01\n",
      " -7.2473639e-01 -6.4986014e-01]\n",
      "확보하는 등 통신장애에 선제적으로 대비한다. \n",
      "장애 상황에 즉각 대응할 수 있도록 사업자와 24시간 상시 온오프라인 대응체계를 운영한다.\n",
      "(768,)\n",
      "[ 0.23023775 -1.1320117   0.89304996  0.02203244  0.69636804 -0.29479277\n",
      " -0.64666003 -0.24102326 -0.3383432  -0.14580281]\n",
      "1월 한 달 동안 기간통신, 부가통신, 데이터센터 등 중요 정보통신시설을 대상으로 동절기 대비 시설 취약점, 트래픽 급증 대비 대책 등을 점검한다.\n",
      "(768,)\n",
      "[ 0.3752514  -1.0260098   0.20315474 -0.1137813   0.80051047 -0.005228\n",
      " -0.12581062 -0.97910416 -0.1404236  -0.86136675]\n",
      "자체적으로는 연구실 등 사고우려시설을 점검하고, 비상 인력도 확대 운영하여 연휴 기간의 비상 상황에 신속히 대응할 예정이다.\n",
      "(768,)\n",
      "[-0.39701435 -0.4522121   0.25892138 -0.34702557  0.69094425  0.01492363\n",
      "  0.26745218 -0.4876316  -0.38597706 -0.29324153]\n",
      "국무조정실, 경찰청, 금융위원회 등과 합동으로 이통 3사 가입자 약 4천747만명에게 설 인사를 사칭한 스미싱, 해킹메일 및 불법사금융 주의 메시지를 13일부터 27일까지\n",
      "(768,)\n",
      "[-4.0890494e-01 -1.0149716e+00 -4.2460564e-01  5.9823245e-01\n",
      "  4.6273890e-01 -2.8221987e-04 -2.8518122e-01 -6.5171671e-01\n",
      " -1.3843738e-01 -2.3821893e-01]\n",
      "순차적으로 발송한다,\n",
      "오는 21일 강변테크노마트를 방문해 단통법 폐지 후 자유로운 지원금 경쟁으로 이용자 혜택이 증대될 수 있도록 협조를 요청할 예정다.\n",
      "(768,)\n",
      "[ 0.3115337  -1.2934853  -0.08485821  0.12023854  0.3838739  -0.514627\n",
      " -0.4080093  -1.0201566   0.42667654 -0.11192996]\n",
      "유상임 장관은 “어려운 시국임에도 즐겁고 안전한 설 명절을 위해 우리 부의 자원을 총동원해 민생안정에 기여하고자 한다”며 “특히 올해는 재정의 70% 이상을 상반기 내\n",
      "(768,)\n",
      "[ 0.32257858 -0.1803677   0.33972082 -0.08238174  0.35021433 -0.46785334\n",
      "  0.19182636 -1.0313151   0.79375225 -0.15133643]\n",
      "집행해 최대한 신속히 국민의 편안한 삶을 영위할 수 있도록 지원할 예정”이라고 말했다.\n",
      "(768,)\n",
      "[-4.3358883e-01 -6.6975302e-01  6.8586850e-01  1.9968180e-02\n",
      "  4.2928931e-01 -2.4786876e-01  2.2103640e-01 -1.4608397e+00\n",
      "  1.1288981e+00 -1.2134847e-03]\n"
     ]
    }
   ],
   "source": [
    "for chunk in chunks:\n",
    "    embedding_vector = embedding_model.encode(chunk)\n",
    "    print(chunk)\n",
    "    print(embedding_vector.shape)\n",
    "    print(embedding_vector[:10])"
   ]
  },
  {
   "cell_type": "code",
   "execution_count": null,
   "id": "2d629d60-b970-4b75-8eda-d8cf5e9e6fab",
   "metadata": {},
   "outputs": [],
   "source": []
  },
  {
   "cell_type": "code",
   "execution_count": null,
   "id": "5425a344-a3b6-48a5-a875-f9e8ccf0c0b2",
   "metadata": {},
   "outputs": [],
   "source": []
  },
  {
   "cell_type": "markdown",
   "id": "bc5dbc7b-ab17-4710-b13a-2ca90c6eaebd",
   "metadata": {},
   "source": [
    "#### 3.Storage & Search"
   ]
  },
  {
   "cell_type": "code",
   "execution_count": 32,
   "id": "410d3523-71de-4f9a-8774-e8eff5f54410",
   "metadata": {},
   "outputs": [
    {
     "data": {
      "text/plain": [
       "'\\nDashboard와 Opensearch 계정은 admin / juntPass123! 로 설정하였습니다.\\nWindows CMD창에서 아래 명령어 수행 (중요!!!)\\nset OPENSEARCH_INITIAL_ADMIN_PASSWORD=juntPass123!\\n'"
      ]
     },
     "execution_count": 32,
     "metadata": {},
     "output_type": "execute_result"
    }
   ],
   "source": [
    "\"\"\"\n",
    "Dashboard와 Opensearch 계정은 admin / juntPass123! 로 설정하였습니다.\n",
    "Windows CMD창에서 아래 명령어 수행 (중요!!!)\n",
    "set OPENSEARCH_INITIAL_ADMIN_PASSWORD=juntPass123!\n",
    "\"\"\""
   ]
  },
  {
   "cell_type": "code",
   "execution_count": null,
   "id": "bddd8917-9874-4db3-b28b-cf622142d034",
   "metadata": {},
   "outputs": [],
   "source": [
    "\"\"\"\n",
    "메모리 설정\n",
    "cmd에서 수행\n",
    "wsl -d docker-desktop\n",
    "\n",
    "docker 인스턴스에서 바로 수행\n",
    "sysctl -w vm.max_map_count=262144\n",
    "\n",
    "exit\n",
    "\"\"\""
   ]
  },
  {
   "cell_type": "code",
   "execution_count": 33,
   "id": "e3d980d0-0202-48f5-8429-4bef86c055ea",
   "metadata": {},
   "outputs": [
    {
     "data": {
      "text/plain": [
       "'\\n볼륨 설정\\n- /c/Temp/opensearch:/usr/share/opensearch/data\\n'"
      ]
     },
     "execution_count": 33,
     "metadata": {},
     "output_type": "execute_result"
    }
   ],
   "source": [
    "\"\"\"\n",
    "볼륨 설정\n",
    "- /c/Temp/opensearch:/usr/share/opensearch/data\n",
    "\"\"\""
   ]
  },
  {
   "cell_type": "code",
   "execution_count": 34,
   "id": "a2011642-03c1-48d4-bcdb-af8eaf2c9bf2",
   "metadata": {},
   "outputs": [
    {
     "data": {
      "text/plain": [
       "'\\n---\\nversion: \\'3\\'\\nservices:\\n  opensearch-node1:\\n    image: opensearchproject/opensearch:latest\\n    container_name: opensearch-node1\\n    environment:\\n      - cluster.name=opensearch-cluster\\n      - node.name=opensearch-node1\\n      - discovery.seed_hosts=opensearch-node1\\n      - cluster.initial_cluster_manager_nodes=opensearch-node1\\n      - bootstrap.memory_lock=true  # along with the memlock settings below, disables swapping\\n      - OPENSEARCH_JAVA_OPTS=-Xms512m -Xmx512m  # minimum and maximum Java heap size, recommend setting both to 50% of system RAM\\n      - OPENSEARCH_INITIAL_ADMIN_PASSWORD=${OPENSEARCH_INITIAL_ADMIN_PASSWORD}    # Sets the demo admin user password when using demo configuration, required for OpenSearch 2.12 and higher\\n    ulimits:\\n      memlock:\\n        soft: -1\\n        hard: -1\\n      nofile:\\n        soft: 65536  # maximum number of open files for the OpenSearch user, set to at least 65536 on modern systems\\n        hard: 65536\\n    volumes:\\n      - /c/Temp/opensearch:/usr/share/opensearch/data\\n    ports:\\n      - 9200:9200\\n      - 9600:9600  # required for Performance Analyzer\\n    networks:\\n      - opensearch-net\\n  opensearch-dashboards:\\n    image: opensearchproject/opensearch-dashboards:latest\\n    container_name: opensearch-dashboards\\n    ports:\\n      - 5601:5601\\n    expose:\\n      - \\'5601\\'\\n    environment:\\n      OPENSEARCH_HOSTS: \\'[\"https://opensearch-node1:9200\"]\\'\\n    networks:\\n      - opensearch-net\\n\\nvolumes:\\n  opensearch-data1:\\n\\nnetworks:\\n  opensearch-net:\\n'"
      ]
     },
     "execution_count": 34,
     "metadata": {},
     "output_type": "execute_result"
    }
   ],
   "source": [
    "#docker-compose.yaml 예제\n",
    "\"\"\"\n",
    "---\n",
    "version: '3'\n",
    "services:\n",
    "  opensearch-node1:\n",
    "    image: opensearchproject/opensearch:latest\n",
    "    container_name: opensearch-node1\n",
    "    environment:\n",
    "      - cluster.name=opensearch-cluster\n",
    "      - node.name=opensearch-node1\n",
    "      - discovery.seed_hosts=opensearch-node1\n",
    "      - cluster.initial_cluster_manager_nodes=opensearch-node1\n",
    "      - bootstrap.memory_lock=true  # along with the memlock settings below, disables swapping\n",
    "      - OPENSEARCH_JAVA_OPTS=-Xms512m -Xmx512m  # minimum and maximum Java heap size, recommend setting both to 50% of system RAM\n",
    "      - OPENSEARCH_INITIAL_ADMIN_PASSWORD=${OPENSEARCH_INITIAL_ADMIN_PASSWORD}    # Sets the demo admin user password when using demo configuration, required for OpenSearch 2.12 and higher\n",
    "    ulimits:\n",
    "      memlock:\n",
    "        soft: -1\n",
    "        hard: -1\n",
    "      nofile:\n",
    "        soft: 65536  # maximum number of open files for the OpenSearch user, set to at least 65536 on modern systems\n",
    "        hard: 65536\n",
    "    volumes:\n",
    "      - /c/Temp/opensearch:/usr/share/opensearch/data\n",
    "    ports:\n",
    "      - 9200:9200\n",
    "      - 9600:9600  # required for Performance Analyzer\n",
    "    networks:\n",
    "      - opensearch-net\n",
    "  opensearch-dashboards:\n",
    "    image: opensearchproject/opensearch-dashboards:latest\n",
    "    container_name: opensearch-dashboards\n",
    "    ports:\n",
    "      - 5601:5601\n",
    "    expose:\n",
    "      - '5601'\n",
    "    environment:\n",
    "      OPENSEARCH_HOSTS: '[\"https://opensearch-node1:9200\"]'\n",
    "    networks:\n",
    "      - opensearch-net\n",
    "\n",
    "volumes:\n",
    "  opensearch-data1:\n",
    "\n",
    "networks:\n",
    "  opensearch-net:\n",
    "\"\"\""
   ]
  },
  {
   "cell_type": "code",
   "execution_count": 36,
   "id": "44d32eda-6b1d-4045-b736-a54c64cea71a",
   "metadata": {},
   "outputs": [
    {
     "data": {
      "text/plain": [
       "'\\n [2025-01-20T06:57:48,646][INFO ][o.o.m.c.MLSyncUpCron     ] [opensearch-node1] ML configuration initialized successfully\\n'"
      ]
     },
     "execution_count": 36,
     "metadata": {},
     "output_type": "execute_result"
    }
   ],
   "source": [
    "\"\"\"\n",
    "Github : docker 폴더에 저장된 docker-compose.yaml로 컨테이너 실행\n",
    "cmd 창에서 docker-compose -f docker\\docker-compose.yml up\n",
    "\"\"\"\n",
    "\"\"\"\n",
    " [2025-01-20T06:57:48,646][INFO ][o.o.m.c.MLSyncUpCron     ] [opensearch-node1] ML configuration initialized successfully\n",
    "\"\"\""
   ]
  },
  {
   "cell_type": "code",
   "execution_count": null,
   "id": "b7af58c6-c519-40ca-a2e3-9bfbe4c57127",
   "metadata": {},
   "outputs": [],
   "source": [
    "from opensearchpy import OpenSearch, RequestsHttpConnection"
   ]
  },
  {
   "cell_type": "code",
   "execution_count": 3,
   "id": "843f7eda-500d-4df8-b68d-e1aa7beaa65a",
   "metadata": {},
   "outputs": [],
   "source": [
    "host = \"localhost\"\n",
    "port = 9200\n",
    "id = \"admin\"\n",
    "password = \"juntPass123!\"\n",
    "\n",
    "client = OpenSearch(\n",
    "    hosts=[{'host': host, 'port': port}],\n",
    "    http_auth=(id, password),  # 기본 자격증명 (필요에 따라 수정)\n",
    "    use_ssl=True,\n",
    "    verify_certs=False,\n",
    "    ssl_show_warn=False,\n",
    "    connection_class=RequestsHttpConnection\n",
    ")"
   ]
  },
  {
   "cell_type": "code",
   "execution_count": 4,
   "id": "bb460c86-7ef8-4c20-ac53-c9c43e2c0778",
   "metadata": {},
   "outputs": [],
   "source": [
    "settings = {\n",
    "                \"settings\": { \"index\": { \"knn\": True, \"knn.algo_param.ef_search\": 100}},\n",
    "                \"mappings\": {\n",
    "                    \"properties\": {\n",
    "                        \"text\": {\"type\": \"text\"},\n",
    "                         \"embedding_vector\": {\n",
    "                            \"type\": \"knn_vector\",\n",
    "                            \"dimension\": 768,\n",
    "                            \"method\": {\n",
    "                                \"name\": \"hnsw\",\n",
    "                                \"space_type\": \"cosinesimil\",\n",
    "                                \"engine\": \"nmslib\"\n",
    "                            }\n",
    "                        }\n",
    "                    }\n",
    "                }\n",
    "            }"
   ]
  },
  {
   "cell_type": "code",
   "execution_count": 5,
   "id": "27bb0d30-735f-4e80-a4de-0b656ac34d7e",
   "metadata": {},
   "outputs": [
    {
     "data": {
      "text/plain": [
       "{'acknowledged': True, 'shards_acknowledged': True, 'index': 'embedding_test'}"
      ]
     },
     "execution_count": 5,
     "metadata": {},
     "output_type": "execute_result"
    }
   ],
   "source": [
    "index_name = \"embedding_test\"\n",
    "\n",
    "#만약 index가 이미 존재한다고 할 경우.\n",
    "\"\"\"\n",
    "RequestError(400, 'resource_already_exists_exception', 'index [embedding_test/snhRj_61TrKfjlcoE0vbRw] already exists')\n",
    "\"\"\"\n",
    "#client.indices.delete(index_name)\n",
    "\n",
    "client.indices.create(\n",
    "                index=index_name,\n",
    "                body=settings\n",
    "            )"
   ]
  },
  {
   "cell_type": "code",
   "execution_count": 6,
   "id": "c3cc3ff1-b27c-459f-a7f0-6eec712e47ce",
   "metadata": {},
   "outputs": [],
   "source": [
    "from langchain_text_splitters import RecursiveCharacterTextSplitter"
   ]
  },
  {
   "cell_type": "code",
   "execution_count": 7,
   "id": "b9df4b52-93c4-4651-8dbb-a0112f7593eb",
   "metadata": {},
   "outputs": [],
   "source": [
    "text = \"\"\"오는 25일부터 30일까지 설 연휴 기간 데이터 통신 요금 부담 없이 영상통화가 무료로 제공된다.\n",
    "과학기술정보통신부는 설 명절을 맞이해 가계 부담을 완화하고 안전한 디지털 이용을 위한 민생 지원과 디지털 안전 정책을 추진한다고 20일 밝혔다.\n",
    "고물가 시대 국민의 가계통신비 부담을 완화하고 소비자 후생을 향상하기 위해 발표된 알뜰폰 경쟁력 강화방안에 따라 데이터 도매대가를 낮출 예정이다.\n",
    "또 중고폰의 안전한 거래 환경 조성을 위한 중고폰 안심거래 사업자 인증제도를 추진한다.\n",
    "\n",
    "설 장바구니 물가 부담을 낮출 수 있도록 오는 30일까지 ‘2025년 우체국쇼핑 설 선물대전’을 진행한다. 53개 지자체, 공공기관과 협업해 15억원 이상의 예산으로 지역의 \n",
    "품질 좋은 농수축산물 3천200여 개 상품을 최대 50% 할인된 가격으로 확보해 우체국 자체 쇼핑몰과 지마켓, 11번가 등 온라인 쇼핑몰을 통해 판매한다.\n",
    "케이블TV가 운용하는 지역 채널을 통해 지역 골목상권을 안내하고 지역 특산품을 판매하여 판로개척이 어려운 지역 소상공인을 지원한다.\n",
    "\n",
    "온 가족이 함께 과학문화를 즐길 수 있도록 설 연휴기간 동안 중앙(대전), 과천, 광주, 부산 등 소관 국립과학관 5곳의 상설전시관을 무료로 개방한다. \n",
    "각 과학관에서 을사년 뱀관련 별자리 해설, 민속놀이 등 다양한 과학문화 전시와 체험행사를 즐길 수 있다.\n",
    "설 연휴 기간 통신량 급증이 예상되는 고속도로, 터미널 등에서는 통신품질 사전점검과 기지국 용량을 증설하고, 디지털 서비스 트래픽 급증에 대비하여 서버 가용량을 \n",
    "확보하는 등 통신장애에 선제적으로 대비한다. \n",
    "장애 상황에 즉각 대응할 수 있도록 사업자와 24시간 상시 온오프라인 대응체계를 운영한다.\n",
    "1월 한 달 동안 기간통신, 부가통신, 데이터센터 등 중요 정보통신시설을 대상으로 동절기 대비 시설 취약점, 트래픽 급증 대비 대책 등을 점검한다. \n",
    "자체적으로는 연구실 등 사고우려시설을 점검하고, 비상 인력도 확대 운영하여 연휴 기간의 비상 상황에 신속히 대응할 예정이다.\n",
    "국무조정실, 경찰청, 금융위원회 등과 합동으로 이통 3사 가입자 약 4천747만명에게 설 인사를 사칭한 스미싱, 해킹메일 및 불법사금융 주의 메시지를 13일부터 27일까지 \n",
    "순차적으로 발송한다,\n",
    "오는 21일 강변테크노마트를 방문해 단통법 폐지 후 자유로운 지원금 경쟁으로 이용자 혜택이 증대될 수 있도록 협조를 요청할 예정다.\n",
    "유상임 장관은 “어려운 시국임에도 즐겁고 안전한 설 명절을 위해 우리 부의 자원을 총동원해 민생안정에 기여하고자 한다”며 “특히 올해는 재정의 70% 이상을 상반기 내 \n",
    "집행해 최대한 신속히 국민의 편안한 삶을 영위할 수 있도록 지원할 예정”이라고 말했다.\n",
    "\"\"\""
   ]
  },
  {
   "cell_type": "code",
   "execution_count": 8,
   "id": "ec97eb17-0905-416a-bcad-8a1b08a1f030",
   "metadata": {},
   "outputs": [],
   "source": [
    "recursive_text_splitter = RecursiveCharacterTextSplitter(\n",
    "    # 청크 크기를 임의로 10으로 설정합니다.\n",
    "    chunk_size=100,\n",
    "    #청크의 마지막 기준으로 임의로 4개 앞까지 포함시킵니다.\n",
    "    chunk_overlap=4,\n",
    "    length_function=len,\n",
    "    separators=[\"\\n\\n\", \"\\n\", \" \", \"\"] #모두 갖도록 합니다.\n",
    ")\n",
    "# 텍스트 분할\n",
    "chunks = recursive_text_splitter.split_text(text)"
   ]
  },
  {
   "cell_type": "code",
   "execution_count": 10,
   "id": "48bec51b-873f-4f2e-985a-1e7fa2cbe318",
   "metadata": {
    "scrolled": true
   },
   "outputs": [
    {
     "name": "stdout",
     "output_type": "stream",
     "text": [
      "C:\\Users\\prismdata\\Documents\\JunT-LLM-RAG\\embeddingmodel\\KR-SBERT-V40K-klueNLI-augSTS"
     ]
    },
    {
     "name": "stderr",
     "output_type": "stream",
     "text": [
      "\n",
      "Fetching 12 files:   0%|          | 0/12 [00:00<?, ?it/s]Downloading 'config_sentence_transformers.json' to 'embeddingmodel\\KR-SBERT-V40K-klueNLI-augSTS\\.cache\\huggingface\\download\\config_sentence_transformers.json.a8a56bb41b8d7c69bf26ed129db7347dbae3f53d.incomplete'\n",
      "Downloading 'sentence_bert_config.json' to 'embeddingmodel\\KR-SBERT-V40K-klueNLI-augSTS\\.cache\\huggingface\\download\\sentence_bert_config.json.5fd10429389515d3e5cccdeda08cae5fea1ae82e.incomplete'\n",
      "Downloading 'config.json' to 'embeddingmodel\\KR-SBERT-V40K-klueNLI-augSTS\\.cache\\huggingface\\download\\config.json.bdd53b37c327399211fd8f19c30c846f962c1fcb.incomplete'\n",
      "Downloading 'README.md' to 'embeddingmodel\\KR-SBERT-V40K-klueNLI-augSTS\\.cache\\huggingface\\download\\README.md.130a16bff11b8eea0a0dc36e57434dbadbd6df79.incomplete'\n",
      "Downloading '1_Pooling/config.json' to 'embeddingmodel\\KR-SBERT-V40K-klueNLI-augSTS\\.cache\\huggingface\\download\\1_Pooling\\config.json.4e09f293dfe90bba49f87cfe7996271f07be2666.incomplete'\n",
      "Downloading '.gitattributes' to 'embeddingmodel\\KR-SBERT-V40K-klueNLI-augSTS\\.cache\\huggingface\\download\\.gitattributes.389f4c4afd1bcdaa3d2af2ad17426d4109a77f02.incomplete'\n",
      "Download complete. Moving file to embeddingmodel\\KR-SBERT-V40K-klueNLI-augSTS\\config_sentence_transformers.json\n",
      "Download complete. Moving file to embeddingmodel\\KR-SBERT-V40K-klueNLI-augSTS\\sentence_bert_config.json\n",
      "Downloading 'pytorch_model.bin' to 'embeddingmodel\\KR-SBERT-V40K-klueNLI-augSTS\\.cache\\huggingface\\download\\pytorch_model.bin.b0d200d161ee7340073737d92dde9baa75cc0b9bc2053464d68a69ec84fc4ada.incomplete'\n",
      "Download complete. Moving file to embeddingmodel\\KR-SBERT-V40K-klueNLI-augSTS\\config.json\n",
      "Downloading 'modules.json' to 'embeddingmodel\\KR-SBERT-V40K-klueNLI-augSTS\\.cache\\huggingface\\download\\modules.json.f7640f94e81bb7f4f04daf1668850b38763a13d9.incomplete'\n",
      "Download complete. Moving file to embeddingmodel\\KR-SBERT-V40K-klueNLI-augSTS\\README.md\n",
      "Download complete. Moving file to embeddingmodel\\KR-SBERT-V40K-klueNLI-augSTS\\1_Pooling\\config.json\n",
      "Download complete. Moving file to embeddingmodel\\KR-SBERT-V40K-klueNLI-augSTS\\.gitattributes\n",
      "\n",
      "Fetching 12 files:   8%|8         | 1/12 [00:00<00:06,  1.70it/s]Downloading 'special_tokens_map.json' to 'embeddingmodel\\KR-SBERT-V40K-klueNLI-augSTS\\.cache\\huggingface\\download\\special_tokens_map.json.e7b0375001f109a6b8873d756ad4f7bbb15fbaa5.incomplete'\n",
      "Downloading 'tokenizer.json' to 'embeddingmodel\\KR-SBERT-V40K-klueNLI-augSTS\\.cache\\huggingface\\download\\tokenizer.json.08492f2bd486189f5bedaea8c75e3ff0921d9c05.incomplete'\n",
      "Downloading 'tokenizer_config.json' to 'embeddingmodel\\KR-SBERT-V40K-klueNLI-augSTS\\.cache\\huggingface\\download\\tokenizer_config.json.bb853ca60cadf18bb346d0b16ca233d38395baad.incomplete'\n",
      "Download complete. Moving file to embeddingmodel\\KR-SBERT-V40K-klueNLI-augSTS\\modules.json\n",
      "\n",
      "Fetching 12 files:  50%|#####     | 6/12 [00:00<00:00,  9.77it/s]Downloading 'vocab.txt' to 'embeddingmodel\\KR-SBERT-V40K-klueNLI-augSTS\\.cache\\huggingface\\download\\vocab.txt.6fad327e670f1ec2cc63a3f8a32d804006997e22.incomplete'\n",
      "Download complete. Moving file to embeddingmodel\\KR-SBERT-V40K-klueNLI-augSTS\\special_tokens_map.json\n",
      "Download complete. Moving file to embeddingmodel\\KR-SBERT-V40K-klueNLI-augSTS\\tokenizer_config.json\n",
      "Download complete. Moving file to embeddingmodel\\KR-SBERT-V40K-klueNLI-augSTS\\vocab.txt\n",
      "Download complete. Moving file to embeddingmodel\\KR-SBERT-V40K-klueNLI-augSTS\\tokenizer.json\n",
      "Download complete. Moving file to embeddingmodel\\KR-SBERT-V40K-klueNLI-augSTS\\pytorch_model.bin\n",
      "\n",
      "Fetching 12 files:  67%|######6   | 8/12 [00:06<00:04,  1.10s/it]\n",
      "Fetching 12 files: 100%|##########| 12/12 [00:06<00:00,  1.73it/s]\n"
     ]
    },
    {
     "name": "stdout",
     "output_type": "stream",
     "text": [
      "\n"
     ]
    }
   ],
   "source": [
    "!huggingface-cli download snunlp/KR-SBERT-V40K-klueNLI-augSTS --local-dir ./embeddingmodel/KR-SBERT-V40K-klueNLI-augSTS/"
   ]
  },
  {
   "cell_type": "code",
   "execution_count": 11,
   "id": "859a8ca5-4193-4778-b3fd-c17afa0c8736",
   "metadata": {},
   "outputs": [],
   "source": [
    "from sentence_transformers import SentenceTransformer\n",
    "embedding_model = SentenceTransformer('embeddingmodel/KR-SBERT-V40K-klueNLI-augSTS')"
   ]
  },
  {
   "cell_type": "code",
   "execution_count": 12,
   "id": "fa94c07b-1df8-4380-8d6b-6e0f8e87409c",
   "metadata": {
    "scrolled": true
   },
   "outputs": [
    {
     "name": "stdout",
     "output_type": "stream",
     "text": [
      "오는 25일부터 30일까지 설 연휴 기간 데이터 통신 요금 부담 없이 영상통화가 무료로 제공된다.\n",
      "[-0.30423218 -0.6265038  -0.46199942 -0.46639022 -0.15611306  0.29953027\n",
      " -0.69818604 -1.1840905   1.0043663   0.4649436 ]\n",
      "과학기술정보통신부는 설 명절을 맞이해 가계 부담을 완화하고 안전한 디지털 이용을 위한 민생 지원과 디지털 안전 정책을 추진한다고 20일 밝혔다.\n",
      "[ 4.6892282e-01 -1.1840496e+00  3.3732483e-01  4.5139022e-04\n",
      "  1.8030833e-01 -6.6667652e-01 -5.0754845e-03 -1.2134197e+00\n",
      " -1.1449635e-01 -6.5772069e-01]\n",
      "고물가 시대 국민의 가계통신비 부담을 완화하고 소비자 후생을 향상하기 위해 발표된 알뜰폰 경쟁력 강화방안에 따라 데이터 도매대가를 낮출 예정이다.\n",
      "[ 0.01831685 -0.37341833  0.37816024  0.12469912  1.0065578  -0.40982768\n",
      " -0.14633176 -0.5699802   0.38141903 -0.41574487]\n",
      "또 중고폰의 안전한 거래 환경 조성을 위한 중고폰 안심거래 사업자 인증제도를 추진한다.\n",
      "[ 0.27099332 -0.41598678 -0.7909945   0.45081002  0.6478745   0.6798109\n",
      " -0.6193923  -0.8730055  -0.21324547  0.31418988]\n",
      "설 장바구니 물가 부담을 낮출 수 있도록 오는 30일까지 ‘2025년 우체국쇼핑 설 선물대전’을 진행한다. 53개 지자체, 공공기관과 협업해 15억원 이상의 예산으로 지역의\n",
      "[-0.00956788 -0.12008172 -0.12694435 -0.3503958   0.1557423  -1.2147306\n",
      "  0.5591767  -0.79176736  0.37097403 -0.4304068 ]\n",
      "품질 좋은 농수축산물 3천200여 개 상품을 최대 50% 할인된 가격으로 확보해 우체국 자체 쇼핑몰과 지마켓, 11번가 등 온라인 쇼핑몰을 통해 판매한다.\n",
      "[-0.61895424 -0.53062004 -0.00882886  0.46972466  0.41810933 -0.25296152\n",
      "  0.17274648 -0.52076447  0.94295794 -0.4522019 ]\n",
      "케이블TV가 운용하는 지역 채널을 통해 지역 골목상권을 안내하고 지역 특산품을 판매하여 판로개척이 어려운 지역 소상공인을 지원한다.\n",
      "[ 0.45760506 -0.87304354  0.78654134 -0.44322845  0.6696572  -0.22933492\n",
      "  0.0585539  -0.8284303  -0.12266371 -0.9899986 ]\n",
      "온 가족이 함께 과학문화를 즐길 수 있도록 설 연휴기간 동안 중앙(대전), 과천, 광주, 부산 등 소관 국립과학관 5곳의 상설전시관을 무료로 개방한다.\n",
      "[ 0.35694003 -0.98987085 -0.40989304 -0.19947807  0.08071796 -0.11688997\n",
      "  1.1358607  -0.64760906 -0.33810687  0.26114455]\n",
      "각 과학관에서 을사년 뱀관련 별자리 해설, 민속놀이 등 다양한 과학문화 전시와 체험행사를 즐길 수 있다.\n",
      "[-0.13047144 -0.6973236  -0.7641139   0.57512456 -0.23126599 -0.41107517\n",
      "  1.2394701  -0.23686935 -0.19726637  0.8152009 ]\n",
      "설 연휴 기간 통신량 급증이 예상되는 고속도로, 터미널 등에서는 통신품질 사전점검과 기지국 용량을 증설하고, 디지털 서비스 트래픽 급증에 대비하여 서버 가용량을\n",
      "[ 5.4636431e-01 -1.2206031e+00  1.7937824e-01 -1.2720365e-03\n",
      "  1.3499862e+00  5.2724715e-02 -6.7578755e-02 -5.2485633e-01\n",
      " -7.2473639e-01 -6.4986014e-01]\n",
      "확보하는 등 통신장애에 선제적으로 대비한다. \n",
      "장애 상황에 즉각 대응할 수 있도록 사업자와 24시간 상시 온오프라인 대응체계를 운영한다.\n",
      "[ 0.23023775 -1.1320117   0.89304996  0.02203244  0.69636804 -0.29479277\n",
      " -0.64666003 -0.24102326 -0.3383432  -0.14580281]\n",
      "1월 한 달 동안 기간통신, 부가통신, 데이터센터 등 중요 정보통신시설을 대상으로 동절기 대비 시설 취약점, 트래픽 급증 대비 대책 등을 점검한다.\n",
      "[ 0.3752514  -1.0260098   0.20315474 -0.1137813   0.80051047 -0.005228\n",
      " -0.12581062 -0.97910416 -0.1404236  -0.86136675]\n",
      "자체적으로는 연구실 등 사고우려시설을 점검하고, 비상 인력도 확대 운영하여 연휴 기간의 비상 상황에 신속히 대응할 예정이다.\n",
      "[-0.39701435 -0.4522121   0.25892138 -0.34702557  0.69094425  0.01492363\n",
      "  0.26745218 -0.4876316  -0.38597706 -0.29324153]\n",
      "국무조정실, 경찰청, 금융위원회 등과 합동으로 이통 3사 가입자 약 4천747만명에게 설 인사를 사칭한 스미싱, 해킹메일 및 불법사금융 주의 메시지를 13일부터 27일까지\n",
      "[-4.0890494e-01 -1.0149716e+00 -4.2460564e-01  5.9823245e-01\n",
      "  4.6273890e-01 -2.8221987e-04 -2.8518122e-01 -6.5171671e-01\n",
      " -1.3843738e-01 -2.3821893e-01]\n",
      "순차적으로 발송한다,\n",
      "오는 21일 강변테크노마트를 방문해 단통법 폐지 후 자유로운 지원금 경쟁으로 이용자 혜택이 증대될 수 있도록 협조를 요청할 예정다.\n",
      "[ 0.3115337  -1.2934853  -0.08485821  0.12023854  0.3838739  -0.514627\n",
      " -0.4080093  -1.0201566   0.42667654 -0.11192996]\n",
      "유상임 장관은 “어려운 시국임에도 즐겁고 안전한 설 명절을 위해 우리 부의 자원을 총동원해 민생안정에 기여하고자 한다”며 “특히 올해는 재정의 70% 이상을 상반기 내\n",
      "[ 0.32257858 -0.1803677   0.33972082 -0.08238174  0.35021433 -0.46785334\n",
      "  0.19182636 -1.0313151   0.79375225 -0.15133643]\n",
      "집행해 최대한 신속히 국민의 편안한 삶을 영위할 수 있도록 지원할 예정”이라고 말했다.\n",
      "[-4.3358883e-01 -6.6975302e-01  6.8586850e-01  1.9968180e-02\n",
      "  4.2928931e-01 -2.4786876e-01  2.2103640e-01 -1.4608397e+00\n",
      "  1.1288981e+00 -1.2134847e-03]\n"
     ]
    }
   ],
   "source": [
    "for chunk in chunks:\n",
    "    embedding_vector = embedding_model.encode(chunk)\n",
    "    print(chunk)\n",
    "    print(embedding_vector[:10])\n",
    "    document = {\n",
    "            'text': chunk,\n",
    "            'embedding_vector': embedding_vector\n",
    "        }\n",
    "    client.index(\n",
    "        index=index_name,\n",
    "        body=document\n",
    "    )"
   ]
  },
  {
   "cell_type": "code",
   "execution_count": null,
   "id": "b69db1ae-949e-4e38-a75b-234fa1f16146",
   "metadata": {
    "scrolled": true
   },
   "outputs": [],
   "source": [
    "question_vector = embedding_model.encode(\"설 연휴기간 과학관에 대해 찾아봐\")\n",
    "top_k = 3\n",
    "\n",
    "query = {\n",
    "    \"query\": {\n",
    "        \"knn\": {\n",
    "            \"embedding_vector\": {\n",
    "                \"vector\": question_vector,\n",
    "                \"k\": top_k\n",
    "            }\n",
    "        }\n",
    "    }\n",
    "}\n",
    "response = client.search(\n",
    "    index=index_name,\n",
    "    body=query\n",
    ")\n",
    "hits = response['hits']['hits']\n",
    "for hit in hits[:3]:\n",
    "    print(f\"텍스트: {hit['_source']['text']}\")\n",
    "    print(f\"점수: {hit['_score']}\")"
   ]
  },
  {
   "cell_type": "code",
   "execution_count": null,
   "id": "c53d29e2-bf55-433c-ace4-63073821b96f",
   "metadata": {},
   "outputs": [],
   "source": []
  }
 ],
 "metadata": {
  "kernelspec": {
   "display_name": "Python 3 (ipykernel)",
   "language": "python",
   "name": "python3"
  },
  "language_info": {
   "codemirror_mode": {
    "name": "ipython",
    "version": 3
   },
   "file_extension": ".py",
   "mimetype": "text/x-python",
   "name": "python",
   "nbconvert_exporter": "python",
   "pygments_lexer": "ipython3",
   "version": "3.12.8"
  }
 },
 "nbformat": 4,
 "nbformat_minor": 5
}
