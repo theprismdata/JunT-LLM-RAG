{
 "cells": [
  {
   "cell_type": "code",
   "execution_count": 10,
   "id": "56f4f3bf-2064-49a6-97b5-ea54bd1fe25a",
   "metadata": {},
   "outputs": [],
   "source": [
    "from langchain_core.prompts import PromptTemplate\n",
    "from datasets import load_dataset,DatasetDict\n",
    "from tqdm import tqdm\n",
    "import pathlib\n",
    "import json\n",
    "import yaml\n",
    "from langchain_ollama import OllamaLLM, ChatOllama"
   ]
  },
  {
   "cell_type": "code",
   "execution_count": 11,
   "id": "643a650f-83b2-452b-920e-75fcde4bf5c3",
   "metadata": {},
   "outputs": [],
   "source": [
    "prompt = PromptTemplate.from_template(\n",
    "        \"\"\"Context information is below. You are only aware of this context and nothing else.\n",
    "        ---------------------        \n",
    "        {context}        \n",
    "        ---------------------\n",
    "        Given this context, generate only questions based on the below query.\n",
    "        Your task is to provide exactly **{num_questions}** question(s) for an upcoming quiz/examination. \n",
    "        You are not to provide more or less than this number of questions. \n",
    "        The question(s) should be diverse in nature across the document. \n",
    "        The purpose of question(s) is to test the understanding of the students on the context information provided.\n",
    "        You must also provide the answer to each question. The answer should be based on the context information provided only.\n",
    "        \n",
    "        Restrict the question(s) to the context information provided only.\n",
    "        QUESTION and ANSWER should be written in Korean. response in JSON format which contains the `question` and `answer`.\n",
    "        DO NOT USE List in JSON format.\n",
    "        ANSWER should be a complete sentence.\n",
    "        \n",
    "        #Format:\n",
    "        ```json\n",
    "        {{\n",
    "            \"QUESTION\": \"PMDU(prime minister’s delivery unit)가 어떤 역할을 하는 조직인가요?\",\n",
    "            \"ANSWER\": \"PMDU(Prime Minister’s Delivery Unit)는 일반적으로 국가 주요 우선 과제의 진행 상황을 감독하고 개선하기 위해 설립됩니다. \"\n",
    "        }},\n",
    "        {{\n",
    "            \"QUESTION\": \"조직 형태로서의 네트워크는 계층제와 시장이라는 조직형태에서 어떠한 특성을 가지는가?\",\n",
    "            \"ANSWER\": \"계층제적 지배구조는 수평적⋅수직적으로 분화되어 있고 지시⋅명령과 같은 행정적 수단에 의해 통제된다.\"    \n",
    "        }},\n",
    "        {{\n",
    "            \"QUESTION\": \"향후 발전을 위해 정부 역할은 어떻게 설정되어야 할까?\",\n",
    "            \"ANSWER\": \"정부역할에 대한 새로운 관심과 개혁 노력이 뒤따를 필요가 있다.\"    \n",
    "        }}\n",
    "        ```\n",
    "        \"\"\"\n",
    "        )"
   ]
  },
  {
   "cell_type": "code",
   "execution_count": 12,
   "id": "c6bb6a2b-6e66-4b9c-8c8b-487b61fce996",
   "metadata": {},
   "outputs": [],
   "source": [
    "def custom_json_parser(response):\n",
    "    json_string = response.content.strip().removeprefix(\"```json\\n\").removesuffix(\"\\n```\").strip()\n",
    "    json_string = f'[{json_string}]' #1개의 json이 나올때도 있고 여러 json이 발생할 경우도 있으니 list.extends를 감안해서.\n",
    "    try:\n",
    "        json_fmt = json.loads(json_string)\n",
    "        return json_fmt\n",
    "    except Exception as e:\n",
    "        print(json_string)\n",
    "        print(str(e))\n",
    "        return None"
   ]
  },
  {
   "cell_type": "code",
   "execution_count": 13,
   "id": "edee08b0-7ef1-457f-af18-1177a6d78322",
   "metadata": {},
   "outputs": [],
   "source": [
    "model_id = \"gemma2:2b\"\n",
    "model = ChatOllama(model=model_id, temperature=0, format='json')"
   ]
  },
  {
   "cell_type": "code",
   "execution_count": 14,
   "id": "cfc07bb0-e8cf-4441-a2ab-0b9f2bba07ae",
   "metadata": {},
   "outputs": [],
   "source": [
    "chain =  prompt | model| custom_json_parser"
   ]
  },
  {
   "cell_type": "markdown",
   "id": "2ea1b5d9-28ff-4e08-8ee6-1d8a20f1efea",
   "metadata": {},
   "source": [
    "##### 질문과 답변 생성 예제 2"
   ]
  },
  {
   "cell_type": "code",
   "execution_count": null,
   "id": "9a7cf43a-8252-4c3e-b949-e24f626e572f",
   "metadata": {
    "scrolled": true
   },
   "outputs": [
    {
     "name": "stdout",
     "output_type": "stream",
     "text": [
      "meta_aggregate\\0_metadump.json\n",
      "page index 0\n",
      "page index 1\n",
      "page index 2\n",
      "page index 3\n",
      "page index 4\n",
      "page index 5\n",
      "page index 6\n",
      "page index 7\n",
      "page index 8\n",
      "page index 9\n",
      "page index 10\n",
      "page index 11\n",
      "page index 12\n",
      "page index 13\n",
      "page index 14\n",
      "page index 15\n",
      "page index 16\n",
      "page index 17\n",
      "page index 18\n",
      "page index 19\n",
      "page index 20\n",
      "page index 21\n",
      "page index 22\n",
      "page index 23\n",
      "page index 24\n",
      "page index 25\n",
      "page index 26\n",
      "page index 27\n",
      "page index 28\n",
      "page index 29\n",
      "page index 30\n",
      "page index 31\n",
      "page index 32\n",
      "page index 33\n",
      "page index 34\n",
      "page index 35\n",
      "page index 36\n",
      "page index 37\n",
      "page index 38\n",
      "page index 39\n",
      "page index 40\n",
      "page index 41\n",
      "page index 42\n",
      "page index 43\n",
      "page index 44\n",
      "page index 45\n",
      "page index 46\n"
     ]
    }
   ],
   "source": [
    "folder_path = 'meta_aggregate'\n",
    "idx = 0\n",
    "for metafile in pathlib.Path(folder_path).rglob(\"*.json\"):\n",
    "    qaset_list = []\n",
    "    with open(metafile, \"r\", encoding=\"utf-8\") as fp:\n",
    "        print(metafile)\n",
    "        json_info = json.load(fp)\n",
    "        title = json_info['filename']\n",
    "        json_key = list(json_info.keys())\n",
    "        json_key.remove('filename')\n",
    "        for pi, page_num in enumerate(json_key):\n",
    "            contents = json_info[page_num]\n",
    "            print(f\"page index {pi}\")\n",
    "            llm_rtn = chain.invoke({\"context\": f\"{contents}\", \"num_questions\": \"3\"})        \n",
    "            if llm_rtn is not None:\n",
    "                qa_modified = {\"question\":'','answer': '', \"source\":title}\n",
    "                for qa_pair in llm_rtn:\n",
    "                    key_list = list(qa_pair.keys())\n",
    "                    for item in key_list:\n",
    "                        if \"q\" in item.lower():\n",
    "                            qa_modified['question'] = f\"{title}에서 {qa_pair[item]}\"\n",
    "                        elif \"a\" in item.lower():\n",
    "                            qa_modified['answer'] =qa_pair[item]\n",
    "                    qaset_list.append(qa_modified)\n",
    "            else:\n",
    "                continue\n",
    "    with open(f\"qaset/{idx}.json\", \"w\", encoding='utf-8') as fp:\n",
    "            fp.write(json.dumps(qaset_list, ensure_ascii=False,indent=2))\n",
    "    idx += 1\n",
    "print(\"finish\")"
   ]
  },
  {
   "cell_type": "code",
   "execution_count": null,
   "id": "4362cfee-89c2-4afd-a448-51752f4ea265",
   "metadata": {},
   "outputs": [],
   "source": []
  }
 ],
 "metadata": {
  "kernelspec": {
   "display_name": "Python 3 (ipykernel)",
   "language": "python",
   "name": "python3"
  },
  "language_info": {
   "codemirror_mode": {
    "name": "ipython",
    "version": 3
   },
   "file_extension": ".py",
   "mimetype": "text/x-python",
   "name": "python",
   "nbconvert_exporter": "python",
   "pygments_lexer": "ipython3",
   "version": "3.10.11"
  }
 },
 "nbformat": 4,
 "nbformat_minor": 5
}
