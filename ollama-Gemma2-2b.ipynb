{
 "cells": [
  {
   "cell_type": "code",
   "execution_count": 1,
   "id": "85846027-d750-48ee-9e0a-b4c58d0e39ad",
   "metadata": {},
   "outputs": [],
   "source": [
    "from langchain_community.llms import Ollama"
   ]
  },
  {
   "cell_type": "code",
   "execution_count": 2,
   "id": "f54d95d5-c67b-48c0-a7dc-a39093094129",
   "metadata": {},
   "outputs": [],
   "source": [
    "from ollama import Client\n",
    "import time"
   ]
  },
  {
   "cell_type": "code",
   "execution_count": 3,
   "id": "79c1316a-c430-4186-93b9-c923fa4ed483",
   "metadata": {},
   "outputs": [],
   "source": [
    "client = Client(\n",
    "  host='http://localhost:11434',\n",
    "  headers={'x-some-header': 'some-value'}\n",
    ")"
   ]
  },
  {
   "cell_type": "code",
   "execution_count": 7,
   "id": "0ce32f32-ec90-4868-8870-033712075ea7",
   "metadata": {},
   "outputs": [],
   "source": [
    "query = \"\"\"\n",
    "다음의 질문 답변해줘\n",
    "\n",
    "질문 : 한국의 디지털트윈 분야에서 테슬라와 현대 자동차에 대해 알려줘.\n",
    "\"\"\""
   ]
  },
  {
   "cell_type": "code",
   "execution_count": 8,
   "id": "ef49fa6e-5398-4d6c-974e-3b170900a0ec",
   "metadata": {},
   "outputs": [
    {
     "name": "stdout",
     "output_type": "stream",
     "text": [
      "## 한국의 디지털 트윈 분야에서 테슬라와 현대 자동차: 두 업체의 비교 분석\n",
      "\n",
      "**테슬라 (Tesla)** \n",
      "\n",
      "* **개요:** 미국-기업인 Tesla는 로봇과 헬스케어까지 다양한 산업을 확장하고 있습니다. 특히 자동차 분야에서 선도적인 기술로 유명합니다.\n",
      "* **한국 사업 현황:** 한국에는 테슬라가 전자차를 판매하는 사업점, 배터리 서비스센터, 그리고 Tesla Supercharger 시설 등을 갖추고 있지만, 공식적으로는 차량 생산은 아직 이루어지지 않습니다.\n",
      "* **디지털 트윈 강조:**  테슬라의 디지털 트윈에는 다음과 같은 특징이 있습니다.\n",
      "    * **차량 자동화:** 스마트폰을 통한 탑승, 안전 시스템, 그리고 내장 애플리케이션으로 구성된 차량 자동화 환경을 제공합니다.\n",
      "    * **인공지능:**  테슬라 자체적인 AI 기술을 사용하여 주행 및 운전과 관련된 작업을 자동화합니다. \n",
      "    * **미래 전환:** 테슬라는 미래 자동차의 방향성으로, 에너지 효율, 안전 기능 등을 우선시하는 시스템을 구축하고 있습니다.\n",
      "\n",
      "**현대자동차 (Hyundai Motor Group)** \n",
      "\n",
      "* **개요:** 한국의 대표적인 자동차업체인 현대자동차는 끊임없이 기술 발전을 추진하며, 글로벌 시장에서 역할을 합니다.\n",
      "* **한국 사업 현황:**  현대자동차는 국내에서 판매를 시작했으며, 전 세계적으로 진출하고 있는 상태입니다. 한국에서의 디지털 트윈은 다음과 같은 특징으로 나타냅니다. \n",
      "    * **모바일 서비스:**  데이터 분석을 통해 사용자가 자동차에 대한 안전하고 편리한 정보와 서비스를 제공합니다. \n",
      "    * **AI 기술:**  안전 시스템, 주행 지원 시스템 등에서 AI 기술을 활용하여 자동화된 운행 환경을 조성하며 개인의 움직임과 필요에 맞는 맞춤형 서비스를 제공합니다.\n",
      "    * **다양한 트윈:**  현대자동차의 디지털 트윈은 다양한 형태로 나뉘며, 안전 기능과 운행 환경을 개선하는 데 중점을 둡니다.\n",
      "\n",
      "**결론:**\n",
      "\n",
      "테슬라와 현대 자동차는 한국 디지털 트윈 분야에서 각각 다른 전략을 진행하고 있습니다. 테슬라의 경우 미래 기술 개발을 위한 노력과, AI 기술 사용으로 자동화된 서비스를 중심으로 진정성을 유지하고 있습니다. 현대자동차는  안전 및 편리성을 중심으로 디지털 트윈의 다양한 형태를 제공하며 국제적인 시장에서 지속적으로 진출하는 방향으로 나아갈 예정입니다. \n",
      "\n",
      "\n",
      "\n",
      "48.61925 sec\n"
     ]
    }
   ],
   "source": [
    "start = time.time()\n",
    "response = client.chat(model='gemma2:2b', messages=[\n",
    "  {\n",
    "    'role': 'user',\n",
    "    'content': f\"{query}\",\n",
    "  },\n",
    "])\n",
    "end = time.time()\n",
    "print(response['message']['content'])\n",
    "print(f\"{end - start:.5f} sec\")"
   ]
  },
  {
   "cell_type": "code",
   "execution_count": null,
   "id": "fa158610-abc0-454e-b97b-5020e890a4d1",
   "metadata": {},
   "outputs": [],
   "source": []
  },
  {
   "cell_type": "code",
   "execution_count": null,
   "id": "f090a2e1-5d22-45ac-8999-ee6c76dbe7e2",
   "metadata": {},
   "outputs": [],
   "source": []
  },
  {
   "cell_type": "code",
   "execution_count": 9,
   "id": "abd69a5a-fae9-4c25-a4cf-760dadf34942",
   "metadata": {},
   "outputs": [],
   "source": [
    "query = \"\"\"\n",
    "다음의 질문과 답변에 대해 정리 요약해줘. 정리 결과는 한글이어야 해\"\n",
    "\n",
    "질문 : 한국의 디지털트윈 분야에서 테슬라와 현대 자동차에 대해 알려줘.\n",
    "답변 : \n",
    "1. 테슬라가 한국과 협력하기 위해 현대 자동차와 협력하기로함.\n",
    "2. 현대차와 테슬라가 협력으로 엔진을 제조하기로 함.\n",
    "3. 삼성 전자가 테슬라에 핵심 AI 칩을 공급하기로 함.\n",
    "\"\"\""
   ]
  },
  {
   "cell_type": "code",
   "execution_count": 10,
   "id": "e5cb2dc1-8fce-4284-903a-97bc51369da2",
   "metadata": {},
   "outputs": [
    {
     "name": "stdout",
     "output_type": "stream",
     "text": [
      "## 한국 디지털 트윈 분야: 테슬라 & 현대 자동차\n",
      "\n",
      "**테슬라와 현대 자동차는 한국 디지털 트윈 분야에서 각각 독립적인 역할을 수행하는 주요 기업입니다.**  핵심적으로, 테슬라와 현대 자동차는 협력 관계를 통해 차세대 자동차 기술 개발 및 시장 경쟁력 강화에 공헌하고 있습니다.\n",
      "\n",
      "**테슬라의 한국 진출:**\n",
      "\n",
      "* **공동 제품 개발:** 테슬라와 현대 자동차는  한국에서 엔진을 제조하기 위한 협력 관계를 구축했습니다. \n",
      "* **핵심 AI 기술 제공:** 삼성전자는 테슬라에 핵심 AI 칩(processor)을 공급하여 운전 지원 및 로봇 시스템의 개발에 활용하고 있습니다.\n",
      "\n",
      "**현대 자동차와 테슬라의 협력:**\n",
      "\n",
      "* **문제 해결과 기술 발전:** 현대 자동차는 테슬라의 한국 시장 진출을 위한 도움을 받으며,  새로운 기술 분야에서 상호 지원을 수행합니다. \n",
      "\n",
      "\n",
      "**핵심 요약**: 테슬라와 현대 자동차의 공동 작업은 한국 디지털 트윈 분야를 혁신시키고 더욱 강력한 경쟁력을 확보하는 데 기여할 것으로 예상됩니다.  \n",
      "\n",
      "26.07835 sec\n"
     ]
    }
   ],
   "source": [
    "start = time.time()\n",
    "response = client.chat(model='gemma2:2b', messages=[\n",
    "  {\n",
    "    'role': 'user',\n",
    "    'content': f\"{query}\",\n",
    "  },\n",
    "])\n",
    "end = time.time()\n",
    "print(response['message']['content'])\n",
    "print(f\"{end - start:.5f} sec\")"
   ]
  },
  {
   "cell_type": "code",
   "execution_count": null,
   "id": "7e7f9436-409f-44bc-8b11-c36b29a81ade",
   "metadata": {},
   "outputs": [],
   "source": []
  },
  {
   "cell_type": "code",
   "execution_count": 4,
   "id": "ae1c2a25-6694-4526-95c9-a8c254f56dd2",
   "metadata": {},
   "outputs": [],
   "source": [
    "query = \"\"\"\n",
    "다음의 질문과 답변에 대해 정리 요약해줘\n",
    "\n",
    "질문 : 디지털트윈의 목적 및 구축･활용･효과 차원에서 견지해야 할 주요 원칙은?\n",
    "답변 : \n",
    "1. 과학적･예측적 정책결정 도구로서의 디지털트윈의 목적 및 구축･활용･효과 차원에서 견지해야 할 주요 원칙은 다음과 같음\n",
    "2. 과학적･예측적 정책의사결정을 위한 디지털트윈 활성화 전략의 필요성\n",
    "3. 강화와 전담조직 설치를 통한 디지털트윈 사업의 성공 가능성 및 지속성\n",
    "\"\"\""
   ]
  },
  {
   "cell_type": "code",
   "execution_count": 5,
   "id": "041d5002-787c-4571-b36d-7097cc3252c3",
   "metadata": {},
   "outputs": [
    {
     "name": "stdout",
     "output_type": "stream",
     "text": [
      "39.58884 sec\n"
     ]
    }
   ],
   "source": [
    "start = time.time()\n",
    "response = client.chat(model='gemma2:2b', messages=[\n",
    "  {\n",
    "    'role': 'user',\n",
    "    'content': f\"{query}\",\n",
    "  },\n",
    "])\n",
    "end = time.time()\n",
    "print(f\"{end - start:.5f} sec\")"
   ]
  },
  {
   "cell_type": "code",
   "execution_count": 6,
   "id": "ae2d9dce-ad40-417a-85bf-5f678533fc78",
   "metadata": {},
   "outputs": [
    {
     "name": "stdout",
     "output_type": "stream",
     "text": [
      "## 디지털트윈, 목적과 핵심 원칙 정리\n",
      "\n",
      "**질문:** 디지털트윈의 목적 및 구축･활용･효과 차원에서 견지해야 할 주요 원칙은?\n",
      "\n",
      "**답변:**\n",
      "\n",
      "1. **목적**:  디지털트윈을 과학적이고 예측 가능한 정책 결정 도구로 활용하며, 이를 통해 정책의 효율성과 성과를 향상시키는 것을 목표로 한다.\n",
      "\n",
      "2. **구축･활용 및 효과**: \n",
      "    * **예측:** 디지털트윈을 통해 정부의 정책이 실제 현장에서 어떤 영향을 미칠 것인지 예측하고, 이를 바탕으로 최적화된 정책 수립에 활용한다.\n",
      "    * **구축**:  정책 결정 및 실행 과정에 대한 다양한 데이터와 분석을 통합하여 디지털트윈 모델 구축을 위해 필요한 기술과 자료를 확보해야 한다.\n",
      "    * **효과:** 디지털트윈의 활용은 정책 목표 달성 효율성 증진, 예측 가능성 강화, 그리고 더 나아가 사회적 영향에 대한 정확한 이해 및 적응을 통합적으로 지원한다.\n",
      "\n",
      "3. **핵심 원칙**: \n",
      "    * **강화와 전담조직 설치** :  디지털트윈 사업의 성공은 과학적 사실과 실제 데이터 기반으로 운영되기 위한 강력한 전략과 지속적인 투자를 통해 가능하다는 점을 명심해야 한다. \n",
      "    * **전문성**: 디지털 트윈 활용에 대한 경험, 기술, 그리고 분석의  수준을 높여야 한다. 이는 정책 결정 과정에서 효율적으로 정보를 얻어내고 해결 방안을 모색할 수 있도록 도와줍니다.\n",
      "\n",
      "\n",
      "\n",
      "**핵심**: 디지털트윈은 예측 가능한 과학적 모델로서, 정부의 정책 결정과 실행을 위한 효율적인 도구를 제공해야 합니다. \n",
      "\n",
      "\n",
      "\n",
      "\n",
      "\n"
     ]
    }
   ],
   "source": [
    "print(response['message']['content'])"
   ]
  },
  {
   "cell_type": "code",
   "execution_count": null,
   "id": "76a88b44-583c-4eb8-89b8-3a1499cc77c7",
   "metadata": {},
   "outputs": [],
   "source": []
  }
 ],
 "metadata": {
  "kernelspec": {
   "display_name": "Python 3 (ipykernel)",
   "language": "python",
   "name": "python3"
  },
  "language_info": {
   "codemirror_mode": {
    "name": "ipython",
    "version": 3
   },
   "file_extension": ".py",
   "mimetype": "text/x-python",
   "name": "python",
   "nbconvert_exporter": "python",
   "pygments_lexer": "ipython3",
   "version": "3.12.8"
  }
 },
 "nbformat": 4,
 "nbformat_minor": 5
}
