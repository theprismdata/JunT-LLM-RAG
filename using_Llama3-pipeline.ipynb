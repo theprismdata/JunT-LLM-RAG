{
 "cells": [
  {
   "cell_type": "code",
   "execution_count": 1,
   "id": "f7e86d58-620a-4034-84ec-2b4e45d95d83",
   "metadata": {},
   "outputs": [],
   "source": [
    "from transformers import pipeline"
   ]
  },
  {
   "cell_type": "markdown",
   "id": "16b591c6-6553-447b-b78e-ef34b4569606",
   "metadata": {},
   "source": [
    "### 로컬에 저장된 Llama-3.2-1B-Instruct 모델을 로드합니다."
   ]
  },
  {
   "cell_type": "code",
   "execution_count": 4,
   "id": "a4170547-ce9d-42dc-a9b0-6acb950544cf",
   "metadata": {},
   "outputs": [
    {
     "name": "stderr",
     "output_type": "stream",
     "text": [
      "Device set to use cpu\n"
     ]
    }
   ],
   "source": [
    "model_id = \"meta-llama/Llama-3.2-1B-Instruct\"\n",
    "model_path = f\"./HF_Models/{model_id}\"\n",
    "pipe = pipeline(\"text-generation\", model=model_path, return_full_text=False)"
   ]
  },
  {
   "cell_type": "markdown",
   "id": "9d5ca4df-1843-4155-981e-88328e98b68d",
   "metadata": {},
   "source": [
    "### Llama-3.2-1B-Instruct에 질문을 전달합니다."
   ]
  },
  {
   "cell_type": "code",
   "execution_count": 11,
   "id": "7c187576-9d51-4e92-afd3-cc773029f2bc",
   "metadata": {},
   "outputs": [],
   "source": [
    "messages = [ {\"role\": \"user\", \"content\": \"대한민국 1월 평균 오전 날씨는 몇도야?\"}]"
   ]
  },
  {
   "cell_type": "code",
   "execution_count": 12,
   "id": "947c65ad-e3c4-4388-bea1-0224b65ae9f3",
   "metadata": {},
   "outputs": [
    {
     "name": "stderr",
     "output_type": "stream",
     "text": [
      "Setting `pad_token_id` to `eos_token_id`:128001 for open-end generation.\n"
     ]
    },
    {
     "name": "stdout",
     "output_type": "stream",
     "text": [
      "대한민국의 1월 평균 오전 날씨는 약 8°C입니다.\n"
     ]
    }
   ],
   "source": [
    "output = pipe(messages)\n",
    "print(output[0]['generated_text'])"
   ]
  },
  {
   "cell_type": "code",
   "execution_count": null,
   "id": "873d192a-3001-4960-a245-2500bff614e5",
   "metadata": {},
   "outputs": [],
   "source": []
  },
  {
   "cell_type": "code",
   "execution_count": 13,
   "id": "0b4cecd7-7909-4b78-958c-623dd12300f1",
   "metadata": {},
   "outputs": [],
   "source": [
    "### 만약 로컬에 모델이 없는 경우 아래의 코드로 모델을 저장합니다."
   ]
  },
  {
   "cell_type": "code",
   "execution_count": 14,
   "id": "6c679e93-a4bb-4622-ac7a-4b2dcc51e4a3",
   "metadata": {},
   "outputs": [],
   "source": [
    "# model_id = \"meta-llama/Llama-3.2-1B-Instruct\"\n",
    "# pipe = pipeline(\"text-generation\", model=model_id, return_full_text=False)\n",
    "# model_path = f\"./HF_Models/{model_id}\"\n",
    "# pipe.save_pretrained(model_path)"
   ]
  },
  {
   "cell_type": "code",
   "execution_count": null,
   "id": "faf329ae-642b-48ea-bfee-444befe4809d",
   "metadata": {},
   "outputs": [],
   "source": []
  }
 ],
 "metadata": {
  "kernelspec": {
   "display_name": "Python 3 (ipykernel)",
   "language": "python",
   "name": "python3"
  },
  "language_info": {
   "codemirror_mode": {
    "name": "ipython",
    "version": 3
   },
   "file_extension": ".py",
   "mimetype": "text/x-python",
   "name": "python",
   "nbconvert_exporter": "python",
   "pygments_lexer": "ipython3",
   "version": "3.10.11"
  }
 },
 "nbformat": 4,
 "nbformat_minor": 5
}
